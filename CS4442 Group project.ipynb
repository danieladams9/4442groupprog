{
 "cells": [
  {
   "cell_type": "markdown",
   "metadata": {},
   "source": [
    "# This program is created by ..."
   ]
  },
  {
   "cell_type": "code",
   "execution_count": 3,
   "metadata": {},
   "outputs": [],
   "source": [
    "# Import all the necessary packages:\n",
    "import numpy as np                                     # type: ignore\n",
    "import matplotlib.pyplot as plt                        # type: ignore\n",
    "from datasets import load_dataset                      # type: ignore\n",
    "import cv2                                             # type: ignore\n",
    "from sklearn.ensemble import RandomForestClassifier    # type: ignore\n",
    "from sklearn.model_selection import train_test_split   # type: ignore\n",
    "from sklearn.metrics import accuracy_score             # type: ignore\n",
    "\n",
    "\n",
    "%matplotlib inline"
   ]
  },
  {
   "cell_type": "markdown",
   "metadata": {},
   "source": [
    "## Download the dataset. This will probably take 4-7 minutes"
   ]
  },
  {
   "cell_type": "markdown",
   "metadata": {},
   "source": [
    "#### Download straight from HuggingFace, then convert the training data into a pandas DataFrame"
   ]
  },
  {
   "cell_type": "code",
   "execution_count": null,
   "metadata": {},
   "outputs": [],
   "source": [
    "# Download the dataset\n",
    "ds = load_dataset(\"marmal88/skin_cancer\")\n",
    "\n",
    "# print(ds.keys()) yields:\n",
    "#     dict_keys(['train', 'validation', 'test'])"
   ]
  },
  {
   "cell_type": "markdown",
   "metadata": {},
   "source": [
    "#### Render an image"
   ]
  },
  {
   "cell_type": "code",
   "execution_count": null,
   "metadata": {},
   "outputs": [],
   "source": [
    "# df = ds[\"train\"].to_pandas()\n",
    "# image_bytes = df.iloc[0][\"image\"][\"bytes\"]\n",
    "\n",
    "# # Convert the byte data into a NumPy array\n",
    "# nparr = np.frombuffer(image_bytes, np.uint8)\n",
    "\n",
    "# # Decode the image array into an image using OpenCV\n",
    "# image = cv2.imdecode(nparr, cv2.IMREAD_COLOR)\n",
    "\n",
    "# # Convert the image from BGR (OpenCV's default) to RGB for correct display\n",
    "# image_rgb = cv2.cvtColor(image, cv2.COLOR_BGR2RGB)\n",
    "\n",
    "# # Display the image using matplotlib\n",
    "# plt.imshow(image_rgb)\n",
    "# plt.axis('off')  # Hide axis\n",
    "# plt.show()"
   ]
  },
  {
   "cell_type": "markdown",
   "metadata": {},
   "source": [
    "## Implement the Sobel and Canny edge detectors that we will use across the training dataset"
   ]
  },
  {
   "cell_type": "markdown",
   "metadata": {},
   "source": [
    "#### Sobel"
   ]
  },
  {
   "cell_type": "code",
   "execution_count": null,
   "metadata": {},
   "outputs": [],
   "source": [
    "def ApplySobel(image):\n",
    "    gray = cv2.cvtColor(image, cv2.COLOR_RGB2GRAY)\n",
    "    sobelx = cv2.Sobel(gray, cv2.CV_64F, 1, 0, ksize=3)\n",
    "    sobely = cv2.Sobel(gray, cv2.CV_64F, 0, 1, ksize=3)\n",
    "    sobel_combined = cv2.magnitude(sobelx, sobely)\n",
    "    return cv2.normalize(sobel_combined, None, 0, 255, cv2.NORM_MINMAX).astype(np.uint8)"
   ]
  },
  {
   "cell_type": "markdown",
   "metadata": {},
   "source": [
    "#### Canny"
   ]
  },
  {
   "cell_type": "code",
   "execution_count": null,
   "metadata": {},
   "outputs": [],
   "source": [
    "def ApplyCanny(image):\n",
    "    gray = cv2.cvtColor(image, cv2.COLOR_RGB2GRAY)\n",
    "    return cv2.Canny(gray, 100, 200)"
   ]
  },
  {
   "cell_type": "markdown",
   "metadata": {},
   "source": [
    "## Now, apply Sobel and Canny to each image in the training set"
   ]
  },
  {
   "cell_type": "code",
   "execution_count": null,
   "metadata": {},
   "outputs": [],
   "source": [
    "dfTrain = ds[\"train\"].to_pandas()\n",
    "\n",
    "sobelImagesTrain = []\n",
    "cannyImagesTrain = []\n",
    "\n",
    "for index, row in dfTrain.iterrows():\n",
    "    image = cv2.cvtColor(cv2.imdecode(np.frombuffer(row[\"image\"][\"bytes\"], np.uint8), cv2.IMREAD_COLOR), cv2.COLOR_BGR2RGB)\n",
    "    \n",
    "    sobelImage = ApplySobel(image)\n",
    "    cannyImage = ApplyCanny(image)\n",
    "    \n",
    "    sobelImagesTrain.append(sobelImage)\n",
    "    cannyImagesTrain.append(cannyImage)\n",
    "    break\n",
    "\n",
    "# Display sample images\n",
    "fig, axes = plt.subplots(1, 3, figsize=(15, 5))\n",
    "axes[0].imshow(image)\n",
    "axes[0].set_title(\"Original\")\n",
    "axes[1].imshow(sobelImage, cmap='gray')\n",
    "axes[1].set_title(\"Sobel Edge Detection\")\n",
    "axes[2].imshow(cannyImage, cmap='gray')\n",
    "axes[2].set_title(\"Canny Edge Detection\")\n",
    "for ax in axes:\n",
    "    ax.axis(\"off\")\n",
    "plt.show()"
   ]
  },
  {
   "cell_type": "markdown",
   "metadata": {},
   "source": [
    "#### Train the Sobel ML model on the Sobel train images"
   ]
  },
  {
   "cell_type": "code",
   "execution_count": null,
   "metadata": {},
   "outputs": [],
   "source": [
    "# To do"
   ]
  },
  {
   "cell_type": "markdown",
   "metadata": {},
   "source": [
    "#### Train the Canny ML model on the Canny train images"
   ]
  },
  {
   "cell_type": "code",
   "execution_count": null,
   "metadata": {},
   "outputs": [],
   "source": [
    "# To do"
   ]
  },
  {
   "cell_type": "markdown",
   "metadata": {},
   "source": [
    "## Apply the respective ML model to the training set * IMPROVE THIS TITLE * "
   ]
  },
  {
   "cell_type": "markdown",
   "metadata": {},
   "source": [
    "#### Apply Sobel and Canny to the test set"
   ]
  },
  {
   "cell_type": "code",
   "execution_count": null,
   "metadata": {},
   "outputs": [],
   "source": [
    "dfTest = ds[\"test\"].to_pandas()\n",
    "\n",
    "sobelImagesTest = []\n",
    "cannyImagesTest = []\n",
    "\n",
    "for index, row in dfTest.iterrows():\n",
    "    image = cv2.cvtColor(cv2.imdecode(np.frombuffer(row[\"image\"][\"bytes\"], np.uint8), cv2.IMREAD_COLOR), cv2.COLOR_BGR2RGB)\n",
    "    \n",
    "    sobelImage = ApplySobel(image)\n",
    "    cannyImage = ApplyCanny(image)\n",
    "    \n",
    "    sobelImagesTest.append(sobelImage)\n",
    "    cannyImagesTest.append(cannyImage)\n",
    "\n",
    "# Now we have a list of images that have Sobel and Canny applied to them. These images are stored in sobelImagesTest and cannyImagesTest"
   ]
  },
  {
   "cell_type": "markdown",
   "metadata": {},
   "source": [
    "#### Run the Sobel ML model on the Sobel test set to tune parameters"
   ]
  },
  {
   "cell_type": "code",
   "execution_count": null,
   "metadata": {},
   "outputs": [],
   "source": [
    "# To do"
   ]
  },
  {
   "cell_type": "markdown",
   "metadata": {},
   "source": [
    "#### Run the Canny ML model on the Canny test set to tune parameters"
   ]
  },
  {
   "cell_type": "code",
   "execution_count": null,
   "metadata": {},
   "outputs": [],
   "source": [
    "# To do"
   ]
  },
  {
   "cell_type": "markdown",
   "metadata": {},
   "source": [
    "## Finally, compare both models on data in the validation set, after all training and testing"
   ]
  },
  {
   "cell_type": "markdown",
   "metadata": {},
   "source": [
    "#### Apply Sobel and Canny to the validation set"
   ]
  },
  {
   "cell_type": "code",
   "execution_count": null,
   "metadata": {},
   "outputs": [],
   "source": [
    "dfVal = ds[\"validation\"].to_pandas()\n",
    "\n",
    "sobelImagesVal = []\n",
    "cannyImagesVal = []\n",
    "\n",
    "for index, row in dfVal.iterrows():\n",
    "    image = cv2.cvtColor(cv2.imdecode(np.frombuffer(row[\"image\"][\"bytes\"], np.uint8), cv2.IMREAD_COLOR), cv2.COLOR_BGR2RGB)\n",
    "    \n",
    "    sobelImage = ApplySobel(image)\n",
    "    cannyImage = ApplyCanny(image)\n",
    "    \n",
    "    sobelImagesVal.append(sobelImage)\n",
    "    cannyImagesVal.append(cannyImage)"
   ]
  },
  {
   "cell_type": "markdown",
   "metadata": {},
   "source": [
    "#### Run both ML models on their respective images"
   ]
  },
  {
   "cell_type": "code",
   "execution_count": null,
   "metadata": {},
   "outputs": [],
   "source": [
    "# Run Sobel ML model on sobelImagesVal\n",
    "# Run Canny ML model on cannyImagesVal"
   ]
  },
  {
   "cell_type": "markdown",
   "metadata": {},
   "source": [
    "#### Get metrics on the performance of both models"
   ]
  },
  {
   "cell_type": "code",
   "execution_count": null,
   "metadata": {},
   "outputs": [],
   "source": [
    "# Get the Sobel model's accuracy, f1 score, etc.\n",
    "# Get the Canny model's accuracy, f1 score, etc.\n",
    "\n",
    "# This is the last step. If Sobel is more accurate, better score etc. then we conclude that Sobel is better"
   ]
  }
 ],
 "metadata": {
  "kernelspec": {
   "display_name": "Python (myenv)",
   "language": "python",
   "name": "myenv"
  },
  "language_info": {
   "codemirror_mode": {
    "name": "ipython",
    "version": 3
   },
   "file_extension": ".py",
   "mimetype": "text/x-python",
   "name": "python",
   "nbconvert_exporter": "python",
   "pygments_lexer": "ipython3",
   "version": "3.13.2"
  }
 },
 "nbformat": 4,
 "nbformat_minor": 2
}
